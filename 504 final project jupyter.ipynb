{
 "cells": [
  {
   "cell_type": "markdown",
   "id": "substantial-impact",
   "metadata": {},
   "source": [
    "# Bragg Diffraction Animation"
   ]
  },
  {
   "cell_type": "markdown",
   "id": "governing-increase",
   "metadata": {},
   "source": [
    "This is a short animation that graphically relates diffraction in real space to Bragg's Law. It further visualizes two different scanning methods that utilize Bragg's Law for analysis and charachterization."
   ]
  },
  {
   "cell_type": "code",
   "execution_count": 1,
   "id": "wound-foundation",
   "metadata": {},
   "outputs": [
    {
     "data": {
      "text/html": [
       "<pre style=\"white-space:pre;overflow-x:auto;line-height:normal;font-family:Menlo,'DejaVu Sans Mono',consolas,'Courier New',monospace\">Manim Community <span style=\"color: #008000; text-decoration-color: #008000\">v0.16.0.post0</span>\n",
       "\n",
       "</pre>\n"
      ],
      "text/plain": [
       "Manim Community \u001b[32mv0.\u001b[0m\u001b[32m16.0\u001b[0m\u001b[32m.post0\u001b[0m\n",
       "\n"
      ]
     },
     "metadata": {},
     "output_type": "display_data"
    }
   ],
   "source": [
    "from manim import *\n",
    "\n",
    "config.media_width = \"75%\"\n",
    "config.verbosity = \"WARNING\""
   ]
  },
  {
   "cell_type": "code",
   "execution_count": 2,
   "id": "c13be4c7",
   "metadata": {},
   "outputs": [],
   "source": [
    "import random as rnd"
   ]
  },
  {
   "cell_type": "code",
   "execution_count": 8,
   "id": "ccdd9a5d",
   "metadata": {},
   "outputs": [
    {
     "name": "stderr",
     "output_type": "stream",
     "text": [
      "                                                                                            \r"
     ]
    },
    {
     "ename": "NameError",
     "evalue": "name 'Mathtex' is not defined",
     "output_type": "error",
     "traceback": [
      "\u001b[1;31m---------------------------------------------------------------------------\u001b[0m",
      "\u001b[1;31mNameError\u001b[0m                                 Traceback (most recent call last)",
      "\u001b[1;32mc:\\Users\\bende\\Documents\\GitHub Repos\\ManimProject\\504 final project jupyter.ipynb Cell 5\u001b[0m line \u001b[0;36m1\n\u001b[1;32m----> <a href='vscode-notebook-cell:/c%3A/Users/bende/Documents/GitHub%20Repos/ManimProject/504%20final%20project%20jupyter.ipynb#W4sZmlsZQ%3D%3D?line=0'>1</a>\u001b[0m get_ipython()\u001b[39m.\u001b[39;49mrun_cell_magic(\u001b[39m'\u001b[39;49m\u001b[39mmanim\u001b[39;49m\u001b[39m'\u001b[39;49m, \u001b[39m'\u001b[39;49m\u001b[39m-qh diff\u001b[39;49m\u001b[39m'\u001b[39;49m, \u001b[39m'\u001b[39;49m\u001b[39mclass diff(Scene):\u001b[39;49m\u001b[39m\\n\u001b[39;49;00m\u001b[39m    def construct(self):\u001b[39;49m\u001b[39m\\n\u001b[39;49;00m\u001b[39m        v=ValueTracker(0)\u001b[39;49m\u001b[39m\\n\u001b[39;49;00m\u001b[39m        t=ValueTracker(0)\u001b[39;49m\u001b[39m\\n\u001b[39;49;00m\u001b[39m        title = Text(\u001b[39;49m\u001b[39m\"\u001b[39;49m\u001b[39mBragg Diffraction\u001b[39;49m\u001b[39m\"\u001b[39;49m\u001b[39m).set_color_by_gradient(TEAL,ORANGE)\u001b[39;49m\u001b[39m\\n\u001b[39;49;00m\u001b[39m        self.play(Write(title))\u001b[39;49m\u001b[39m\\n\u001b[39;49;00m\u001b[39m        self.wait()\u001b[39;49m\u001b[39m\\n\u001b[39;49;00m\u001b[39m        title.generate_target()\u001b[39;49m\u001b[39m\\n\u001b[39;49;00m\u001b[39m        title.target.to_edge(UP).scale(.8)\u001b[39;49m\u001b[39m\\n\u001b[39;49;00m\u001b[39m        self.play(MoveToTarget(title))\u001b[39;49m\u001b[39m\\n\u001b[39;49;00m\u001b[39m\\n\u001b[39;49;00m\u001b[39m        grid=NumberPlane(x_range=[-6,6],y_range=[-3,0]).shift(DOWN*2.5)\u001b[39;49m\u001b[39m\\n\u001b[39;49;00m\u001b[39m        grid2=always_redraw(lambda: NumberPlane(x_range=[-3.5,3.5],y_range=[-3,0]).shift(DOWN*2.5).rotate(v.get_value()))\u001b[39;49m\u001b[39m\\n\u001b[39;49;00m\u001b[39m        grid3=always_redraw(lambda:NumberPlane(x_range=[-40,40],y_range=[-30,0],x_length=7,y_length=3).set_opacity(0.6).shift(DOWN*2.5).rotate(v.get_value()))\u001b[39;49m\u001b[39m\\n\u001b[39;49;00m\u001b[39m        samp=always_redraw(lambda:Rectangle(WHITE,height=1/10,width=1,fill_color=TEAL).shift(DOWN*2).rotate(v.get_value()))\u001b[39;49m\u001b[39m\\n\u001b[39;49;00m\u001b[39m        samp_dash=always_redraw(lambda:DashedLine([-1,-2,0],[1.,-2,0],color=TEAL).rotate(v.get_value()))\u001b[39;49m\u001b[39m\\n\u001b[39;49;00m\u001b[39m        self.play(FadeIn(grid))\u001b[39;49m\u001b[39m\\n\u001b[39;49;00m\u001b[39m        dots=dict()\u001b[39;49m\u001b[39m\\n\u001b[39;49;00m\u001b[39m        var_index=0\u001b[39;49m\u001b[39m\\n\u001b[39;49;00m\u001b[39m        for x in range(-6, 6):\u001b[39;49m\u001b[39m\\n\u001b[39;49;00m\u001b[39m            for y in range(-3, 0):\u001b[39;49m\u001b[39m\\n\u001b[39;49;00m\u001b[39m                \u001b[39;49m\u001b[39m\\n\u001b[39;49;00m\u001b[39m                dots[f\u001b[39;49m\u001b[39m\"\u001b[39;49m\u001b[39m{var_index}\u001b[39;49;00m\u001b[39m\"\u001b[39;49m\u001b[39m] = Dot(np.array([x, y, 0]))\u001b[39;49m\u001b[39m\\n\u001b[39;49;00m\u001b[39m                var_index = var_index + 1\u001b[39;49m\u001b[39m\\n\u001b[39;49;00m\u001b[39m        self.play(FadeIn(*dots.values()))\u001b[39;49m\u001b[39m\\n\u001b[39;49;00m\u001b[39m\\n\u001b[39;49;00m\u001b[39m        \u001b[39;49m\u001b[39m\\n\u001b[39;49;00m\u001b[39m       \u001b[39;49m\u001b[39m\\n\u001b[39;49;00m\u001b[39m        br=BraceBetweenPoints([2,-1,0],[2,-2,0],direction=RIGHT)\u001b[39;49m\u001b[39m\\n\u001b[39;49;00m\u001b[39m        param=MathTex(\u001b[39;49m\u001b[39m\"\u001b[39;49m\u001b[39md\u001b[39;49m\u001b[39m\"\u001b[39;49m\u001b[39m).next_to(br,RIGHT,aligned_edge=LEFT).set_color(color=BLUE)\u001b[39;49m\u001b[39m\\n\u001b[39;49;00m\u001b[39m        \u001b[39;49m\u001b[39m\\n\u001b[39;49;00m\u001b[39m        \u001b[39;49m\u001b[39m\\n\u001b[39;49;00m\u001b[39m        eqn1=MathTex(\u001b[39;49m\u001b[39m\"\u001b[39;49m\u001b[39mn\u001b[39;49m\u001b[39m\"\u001b[39;49m\u001b[39m,\u001b[39;49m\u001b[39m\"\u001b[39;49m\u001b[39m\\\\\u001b[39;49;00m\u001b[39m\\\\\u001b[39;49;00m\u001b[39mlambda\u001b[39;49m\u001b[39m\"\u001b[39;49m\u001b[39m).next_to(grid,UP,DOWN).shift(UP*1.3 + LEFT)\u001b[39;49m\u001b[39m\\n\u001b[39;49;00m\u001b[39m        eqn2=MathTex(\u001b[39;49m\u001b[39m\"\u001b[39;49m\u001b[39m=\u001b[39;49m\u001b[39m\"\u001b[39;49m\u001b[39m,\u001b[39;49m\u001b[39m\"\u001b[39;49m\u001b[39m2\u001b[39;49m\u001b[39m\"\u001b[39;49m\u001b[39m,\u001b[39;49m\u001b[39m\"\u001b[39;49m\u001b[39md\u001b[39;49m\u001b[39m\"\u001b[39;49m\u001b[39m,\u001b[39;49m\u001b[39m\"\u001b[39;49m\u001b[39m\\\\\u001b[39;49;00m\u001b[39m\\\\\u001b[39;49;00m\u001b[39msin(\u001b[39;49m\u001b[39m\"\u001b[39;49m\u001b[39m,\u001b[39;49m\u001b[39m\"\u001b[39;49m\u001b[39m\\\\\u001b[39;49;00m\u001b[39m\\\\\u001b[39;49;00m\u001b[39mtheta\u001b[39;49m\u001b[39m\"\u001b[39;49m\u001b[39m,\u001b[39;49m\u001b[39m\"\u001b[39;49m\u001b[39m)\u001b[39;49m\u001b[39m\"\u001b[39;49m\u001b[39m).next_to(eqn1,RIGHT,buff=1.26,aligned_edge=RIGHT).set_color_by_tex(\u001b[39;49m\u001b[39m\"\u001b[39;49m\u001b[39md\u001b[39;49m\u001b[39m\"\u001b[39;49m\u001b[39m,color=BLUE).set_color_by_tex(\u001b[39;49m\u001b[39m\"\u001b[39;49m\u001b[39m\\\\\u001b[39;49;00m\u001b[39m\\\\\u001b[39;49;00m\u001b[39mtheta\u001b[39;49m\u001b[39m\"\u001b[39;49m\u001b[39m,GREEN)\u001b[39;49m\u001b[39m\\n\u001b[39;49;00m\u001b[39m        brg_cond=Text(\u001b[39;49m\u001b[39m\"\u001b[39;49m\u001b[39mBragg Condition\u001b[39;49m\u001b[39m\"\u001b[39;49m\u001b[39m).scale(.5).next_to(eqn1,UP,DOWN).shift(RIGHT*1.1+UP*1.3\u001b[39;49m\u001b[39m\\n\u001b[39;49;00m\u001b[39m        ).set_color_by_gradient(ORANGE,TEAL)\u001b[39;49m\u001b[39m\\n\u001b[39;49;00m\u001b[39m        \u001b[39;49m\u001b[39m\\n\u001b[39;49;00m\u001b[39m        self.play(Write(eqn1),run_time=.75)\u001b[39;49m\u001b[39m\\n\u001b[39;49;00m\u001b[39m        self.play(Write(eqn2),run_time=1)\u001b[39;49m\u001b[39m\\n\u001b[39;49;00m\u001b[39m        self.play(Write(brg_cond))\u001b[39;49m\u001b[39m\\n\u001b[39;49;00m\u001b[39m        self.play(FadeIn(br,param))\u001b[39;49m\u001b[39m\\n\u001b[39;49;00m\u001b[39m\\n\u001b[39;49;00m\u001b[39m\\n\u001b[39;49;00m\u001b[39m        inc=always_redraw(lambda:Line([-4,0,0],[0,-2,0],color=RED).rotate(-1*t.get_value(),about_point=[0,-2,0]))\u001b[39;49m\u001b[39m\\n\u001b[39;49;00m\u001b[39m        sca=always_redraw(lambda:Line([0,-2,0],[4,0,0],color=RED))\u001b[39;49m\u001b[39m\\n\u001b[39;49;00m\u001b[39m        sca2=always_redraw(lambda:Line([0,-2,0],[4,0,0],color=RED).rotate(t.get_value(),about_point=[0,-2,0]))\u001b[39;49m\u001b[39m\\n\u001b[39;49;00m\u001b[39m        dashed= always_redraw(lambda:DashedLine([0,-2,0],[4,-4,0],color=RED).rotate(-1*t.get_value(),about_point=[0,-2,0]))\u001b[39;49m\u001b[39m\\n\u001b[39;49;00m\u001b[39m        text=Tex(\u001b[39;49m\u001b[39m\"\u001b[39;49m\u001b[39mIncident X-Ray\u001b[39;49m\u001b[39m\"\u001b[39;49m\u001b[39m).move_to([-4,1,0]).set_color_by_gradient(GOLD,TEAL)\u001b[39;49m\u001b[39m\\n\u001b[39;49;00m\u001b[39m        \u001b[39;49m\u001b[39m\\n\u001b[39;49;00m\u001b[39m        \u001b[39;49m\u001b[39m\\n\u001b[39;49;00m\u001b[39m        \u001b[39;49m\u001b[39m\\n\u001b[39;49;00m\u001b[39m        def opacity_setter(mob):\u001b[39;49m\u001b[39m\\n\u001b[39;49;00m\u001b[39m            randNum=rnd.random()\u001b[39;49m\u001b[39m\\n\u001b[39;49;00m\u001b[39m            mob.set_opacity(randNum)\u001b[39;49m\u001b[39m\\n\u001b[39;49;00m\u001b[39m        sca2.add_updater(opacity_setter)\u001b[39;49m\u001b[39m\\n\u001b[39;49;00m\u001b[39m\\n\u001b[39;49;00m\u001b[39m\\n\u001b[39;49;00m\u001b[39m\\n\u001b[39;49;00m\u001b[39m        text2=Tex(\u001b[39;49m\u001b[39m\"\u001b[39;49m\u001b[39mDiffracted X-Ray\u001b[39;49m\u001b[39m\"\u001b[39;49m\u001b[39m).move_to([4,1,0]).set_color_by_gradient(GOLD,BLUE)\u001b[39;49m\u001b[39m\\n\u001b[39;49;00m\u001b[39m        self.play(Create(inc),FadeIn(text))\u001b[39;49m\u001b[39m\\n\u001b[39;49;00m\u001b[39m        #self.play(FadeOut(text))\u001b[39;49m\u001b[39m\\n\u001b[39;49;00m\u001b[39m        self.play(Create(sca),FadeIn(text2))\u001b[39;49m\u001b[39m\\n\u001b[39;49;00m\u001b[39m        #self.play(FadeOut(text2))\u001b[39;49m\u001b[39m\\n\u001b[39;49;00m\u001b[39m\\n\u001b[39;49;00m\u001b[39m        vg=(eqn1,eqn2)\u001b[39;49m\u001b[39m\\n\u001b[39;49;00m\u001b[39m        \u001b[39;49m\u001b[39m\\n\u001b[39;49;00m\u001b[39m        angle=MathTex(\u001b[39;49m\u001b[39m\"\u001b[39;49m\u001b[39m\\\\\u001b[39;49;00m\u001b[39m\\\\\u001b[39;49;00m\u001b[39momega\u001b[39;49m\u001b[39m\"\u001b[39;49m\u001b[39m).set_color(YELLOW).shift(LEFT*1.3 + DOWN*1.74)\u001b[39;49m\u001b[39m\\n\u001b[39;49;00m\u001b[39m        angle2=MathTex(\u001b[39;49m\u001b[39m\"\u001b[39;49m\u001b[39m2\u001b[39;49m\u001b[39m\"\u001b[39;49m\u001b[39m,\u001b[39;49m\u001b[39m\"\u001b[39;49m\u001b[39m\\\\\u001b[39;49;00m\u001b[39m\\\\\u001b[39;49;00m\u001b[39mtheta\u001b[39;49m\u001b[39m\"\u001b[39;49m\u001b[39m).set_color_by_tex(\u001b[39;49m\u001b[39m\"\u001b[39;49m\u001b[39m\\\\\u001b[39;49;00m\u001b[39m\\\\\u001b[39;49;00m\u001b[39mtheta\u001b[39;49m\u001b[39m\"\u001b[39;49m\u001b[39m,GREEN).shift(RIGHT*1.4 + DOWN*1.95)\u001b[39;49m\u001b[39m\\n\u001b[39;49;00m\u001b[39m        ang=always_redraw(lambda:Angle(Line([0,-2,0],[-4,0,0]).rotate(-1*t.get_value(),about_point=[0,-2,0]),Line([-1,-2,0],[1,-2,0]).rotate(v.get_value()),radius=1,quadrant=(1,-1)))\u001b[39;49m\u001b[39m\\n\u001b[39;49;00m\u001b[39m        ang2=always_redraw(lambda:Angle(Line([0,-2,0],[4,-4,0]).rotate(-1*t.get_value(),about_point=[0,-2,0]),Line([0,-2,0],[4,0,0]).rotate(1*t.get_value(),about_point=[0,-2,0]),radius=1,quadrant=(1,11)))\u001b[39;49m\u001b[39m\\n\u001b[39;49;00m\u001b[39m        self.play(Create(ang))\u001b[39;49m\u001b[39m\\n\u001b[39;49;00m\u001b[39m        self.play(Write(angle))\u001b[39;49m\u001b[39m\\n\u001b[39;49;00m\u001b[39m        self.play(Create(dashed))\u001b[39;49m\u001b[39m\\n\u001b[39;49;00m\u001b[39m        self.play(Create(ang2),Write(angle2))\u001b[39;49m\u001b[39m\\n\u001b[39;49;00m\u001b[39m        self.wait()\u001b[39;49m\u001b[39m\\n\u001b[39;49;00m\u001b[39m        \u001b[39;49m\u001b[39m\\n\u001b[39;49;00m\u001b[39m        rect=Rectangle(height=7.5,width=12,fill_color=BLACK,fill_opacity=1\u001b[39;49m\u001b[39m\\n\u001b[39;49;00m\u001b[39m        ).set_color_by_gradient([TEAL,ORANGE,PINK]\u001b[39;49m\u001b[39m\\n\u001b[39;49;00m\u001b[39m        ).set_fill(DARKER_GREY)\u001b[39;49m\u001b[39m\\n\u001b[39;49;00m\u001b[39m\\n\u001b[39;49;00m\u001b[39m        txt1=VGroup(\u001b[39;49m\u001b[39m\\n\u001b[39;49;00m\u001b[39m            MathTex(\u001b[39;49m\u001b[39m\"\u001b[39;49m\u001b[39mNOTE:\u001b[39;49m\u001b[39m\"\u001b[39;49m\u001b[39m),\u001b[39;49m\u001b[39m\\n\u001b[39;49;00m\u001b[39m            MathTex(r\u001b[39;49m\u001b[39m\"\u001b[39;49m\u001b[39m\\\\\u001b[39;49;00m\u001b[39mtext\u001b[39;49m\u001b[39m{\u001b[39;49m\u001b[39mIf we hold 2}\u001b[39;49m\u001b[39m\"\u001b[39;49m\u001b[39m,\u001b[39;49m\u001b[39m\"\u001b[39;49m\u001b[39m\\\\\u001b[39;49;00m\u001b[39m\\\\\u001b[39;49;00m\u001b[39mtheta\u001b[39;49m\u001b[39m\"\u001b[39;49m\u001b[39m,\u001b[39;49m\u001b[39m\"\u001b[39;49m\u001b[39m\\\\\u001b[39;49;00m\u001b[39m\\\\\u001b[39;49;00m\u001b[39mtext\u001b[39;49m\u001b[39m{\u001b[39;49m\u001b[39m constant while we vary}\u001b[39;49m\u001b[39m\"\u001b[39;49m\u001b[39m,\u001b[39;49m\u001b[39m\"\u001b[39;49m\u001b[39m\\\\\u001b[39;49;00m\u001b[39m\\\\\u001b[39;49;00m\u001b[39momega\u001b[39;49m\u001b[39m\"\u001b[39;49m\u001b[39m,\u001b[39;49m\u001b[39m\"\u001b[39;49m\u001b[39m\\\\\u001b[39;49;00m\u001b[39m\\\\\u001b[39;49;00m\u001b[39mtext\u001b[39;49m\u001b[39m{\u001b[39;49m\u001b[39mwe can}\u001b[39;49m\u001b[39m\"\u001b[39;49m\u001b[39m,color=WHITE),\u001b[39;49m\u001b[39m\\n\u001b[39;49;00m\u001b[39m            MathTex(r\u001b[39;49m\u001b[39m\"\u001b[39;49m\u001b[39m\\\\\u001b[39;49;00m\u001b[39mtext\u001b[39;49m\u001b[39m{\u001b[39;49m\u001b[39mpreform an }\u001b[39;49m\u001b[39m\"\u001b[39;49m\u001b[39m, \u001b[39;49m\u001b[39m\"\u001b[39;49m\u001b[39m\\\\\u001b[39;49;00m\u001b[39m\\\\\u001b[39;49;00m\u001b[39momega\u001b[39;49m\u001b[39m\"\u001b[39;49m\u001b[39m,\u001b[39;49m\u001b[39m\"\u001b[39;49m\u001b[39m\\\\\u001b[39;49;00m\u001b[39m\\\\\u001b[39;49;00m\u001b[39mtext\u001b[39;49m\u001b[39m{\u001b[39;49m\u001b[39m scan}\u001b[39;49m\u001b[39m\"\u001b[39;49m\u001b[39m,color=WHITE),\u001b[39;49m\u001b[39m\\n\u001b[39;49;00m\u001b[39m            Mathtex(r\u001b[39;49m\u001b[39m\"\u001b[39;49m\u001b[39m\\\\\u001b[39;49;00m\u001b[39mtext\u001b[39;49m\u001b[39m{\u001b[39;49m\u001b[39m--}\u001b[39;49m\u001b[39m\"\u001b[39;49m\u001b[39m),\u001b[39;49m\u001b[39m\\n\u001b[39;49;00m\u001b[39m            MathTex(r\u001b[39;49m\u001b[39m\"\u001b[39;49m\u001b[39m\\\\\u001b[39;49;00m\u001b[39mtext\u001b[39;49m\u001b[39m{\u001b[39;49m\u001b[39mSince 2}\u001b[39;49m\u001b[39m\"\u001b[39;49m\u001b[39m,\u001b[39;49m\u001b[39m\"\u001b[39;49m\u001b[39m\\\\\u001b[39;49;00m\u001b[39m\\\\\u001b[39;49;00m\u001b[39mtheta\u001b[39;49m\u001b[39m\"\u001b[39;49m\u001b[39m,\u001b[39;49m\u001b[39m\"\u001b[39;49m\u001b[39m\\\\\u001b[39;49;00m\u001b[39m\\\\\u001b[39;49;00m\u001b[39mtext\u001b[39;49m\u001b[39m{\u001b[39;49m\u001b[39mis constant, we are sampling the same}\u001b[39;49m\u001b[39m\"\u001b[39;49m\u001b[39m,color=WHITE),\u001b[39;49m\u001b[39m\\n\u001b[39;49;00m\u001b[39m            MathTex(r\u001b[39;49m\u001b[39m\"\u001b[39;49m\u001b[39m\\\\\u001b[39;49;00m\u001b[39mtext\u001b[39;49m\u001b[39m{\u001b[39;49m\u001b[39md-spacing throughout the scan, per Bragg\u001b[39;49m\u001b[39m\\'\u001b[39;49;00m\u001b[39ms Law.}\u001b[39;49m\u001b[39m\"\u001b[39;49m\u001b[39m,color=WHITE),\u001b[39;49m\u001b[39m\\n\u001b[39;49;00m\u001b[39m            MathTex(r\u001b[39;49m\u001b[39m\"\u001b[39;49m\u001b[39m\\\\\u001b[39;49;00m\u001b[39mtext\u001b[39;49m\u001b[39m{\u001b[39;49m\u001b[39mThis is used to interrogatethe quality of the crystal}\u001b[39;49m\u001b[39m\"\u001b[39;49m\u001b[39m,color=WHITE),\u001b[39;49m\u001b[39m\\n\u001b[39;49;00m\u001b[39m            MathTex(r\u001b[39;49m\u001b[39m\"\u001b[39;49m\u001b[39m\\\\\u001b[39;49;00m\u001b[39mtext\u001b[39;49m\u001b[39m{\u001b[39;49m\u001b[39m--}\u001b[39;49m\u001b[39m\"\u001b[39;49m\u001b[39m),\u001b[39;49m\u001b[39m\\n\u001b[39;49;00m\u001b[39m            MathTex(r\u001b[39;49m\u001b[39m\"\u001b[39;49m\u001b[39m\\\\\u001b[39;49;00m\u001b[39mtext\u001b[39;49m\u001b[39m{\u001b[39;49m\u001b[39m*The angle shown is exaggerated for illustration}\u001b[39;49m\u001b[39m\"\u001b[39;49m\u001b[39m,color=WHITE).scale(0.7)\u001b[39;49m\u001b[39m\\n\u001b[39;49;00m\u001b[39m        ).arrange(DOWN,aligned_edge=LEFT)\u001b[39;49m\u001b[39m\\n\u001b[39;49;00m\u001b[39m        txt1.height=config.frame_height-2\u001b[39;49m\u001b[39m\\n\u001b[39;49;00m\u001b[39m        txt1.width=rect.width - 1\u001b[39;49m\u001b[39m\\n\u001b[39;49;00m\u001b[39m\\n\u001b[39;49;00m\u001b[39m        self.play(Create(rect),Write(txt1))\u001b[39;49m\u001b[39m\\n\u001b[39;49;00m\u001b[39m        self.wait(13)\u001b[39;49m\u001b[39m\\n\u001b[39;49;00m\u001b[39m        self.play(FadeOut(rect,txt1))\u001b[39;49m\u001b[39m\\n\u001b[39;49;00m\u001b[39m        wscan=MathTex(\u001b[39;49m\u001b[39m\"\u001b[39;49m\u001b[39mOmega\u001b[39;49m\u001b[39m\\\\\u001b[39;49;00m\u001b[39m,  (\u001b[39;49m\u001b[39m\\\\\u001b[39;49;00m\u001b[39m\\\\\u001b[39;49;00m\u001b[39momega) \u001b[39;49m\u001b[39m\\\\\u001b[39;49;00m\u001b[39m,  Scan\u001b[39;49m\u001b[39m\"\u001b[39;49m\u001b[39m).set_color_by_gradient(TEAL,ORANGE).to_edge(UP).scale(1.2)\u001b[39;49m\u001b[39m\\n\u001b[39;49;00m\u001b[39m\\n\u001b[39;49;00m\u001b[39m\\n\u001b[39;49;00m\u001b[39m\\n\u001b[39;49;00m\u001b[39m        self.play(FadeOut(*dots.values(),br,param),FadeOut(eqn1,eqn2,brg_cond),ReplacementTransform(grid,samp))\u001b[39;49m\u001b[39m\\n\u001b[39;49;00m\u001b[39m        self.play(Transform(title,wscan),Create(samp_dash))\u001b[39;49m\u001b[39m\\n\u001b[39;49;00m\u001b[39m        self.add(sca2)\u001b[39;49m\u001b[39m\\n\u001b[39;49;00m\u001b[39m        self.remove(sca)\u001b[39;49m\u001b[39m\\n\u001b[39;49;00m\u001b[39m        self.play(v.animate.set_value(-0.6/6),run_time=1.5)\u001b[39;49m\u001b[39m\\n\u001b[39;49;00m\u001b[39m        self.play(v.animate.set_value(PI/(10)),run_time=4.5,rate_func=linear)\u001b[39;49m\u001b[39m\\n\u001b[39;49;00m\u001b[39m        self.add(sca)\u001b[39;49m\u001b[39m\\n\u001b[39;49;00m\u001b[39m        self.remove(sca2)\u001b[39;49m\u001b[39m\\n\u001b[39;49;00m\u001b[39m        self.wait(2)\u001b[39;49m\u001b[39m\\n\u001b[39;49;00m\u001b[39m        \u001b[39;49m\u001b[39m\\n\u001b[39;49;00m\u001b[39m        txt2= VGroup(\u001b[39;49m\u001b[39m\\n\u001b[39;49;00m\u001b[39m            MathTex(\u001b[39;49m\u001b[39m\"\u001b[39;49m\u001b[39mNOTE:\u001b[39;49m\u001b[39m\"\u001b[39;49m\u001b[39m),\u001b[39;49m\u001b[39m\\n\u001b[39;49;00m\u001b[39m            MathTex(r\u001b[39;49m\u001b[39m\"\u001b[39;49m\u001b[39m\\\\\u001b[39;49;00m\u001b[39mtext\u001b[39;49m\u001b[39m{\u001b[39;49m\u001b[39mIf we set }\u001b[39;49m\u001b[39m\"\u001b[39;49m\u001b[39m,\u001b[39;49m\u001b[39m\"\u001b[39;49m\u001b[39m\\\\\u001b[39;49;00m\u001b[39m\\\\\u001b[39;49;00m\u001b[39momega\u001b[39;49m\u001b[39m\"\u001b[39;49m\u001b[39m,\u001b[39;49m\u001b[39m\"\u001b[39;49m\u001b[39m\\\\\u001b[39;49;00m\u001b[39m\\\\\u001b[39;49;00m\u001b[39mtext\u001b[39;49m\u001b[39m{\u001b[39;49m\u001b[39m to be equal to }\u001b[39;49m\u001b[39m\"\u001b[39;49m\u001b[39m,\u001b[39;49m\u001b[39m\"\u001b[39;49m\u001b[39m\\\\\u001b[39;49;00m\u001b[39m\\\\\u001b[39;49;00m\u001b[39mtheta\u001b[39;49m\u001b[39m\"\u001b[39;49m\u001b[39m,color=WHITE),\u001b[39;49m\u001b[39m\\n\u001b[39;49;00m\u001b[39m            MathTex(r\u001b[39;49m\u001b[39m\"\u001b[39;49m\u001b[39m\\\\\u001b[39;49;00m\u001b[39mtext\u001b[39;49m\u001b[39m{\u001b[39;49m\u001b[39mwhile varying 2}\u001b[39;49m\u001b[39m\"\u001b[39;49m\u001b[39m,\u001b[39;49m\u001b[39m\"\u001b[39;49m\u001b[39m\\\\\u001b[39;49;00m\u001b[39m\\\\\u001b[39;49;00m\u001b[39mtheta\u001b[39;49m\u001b[39m\"\u001b[39;49m\u001b[39m,\u001b[39;49m\u001b[39m\"\u001b[39;49m\u001b[39m\\\\\u001b[39;49;00m\u001b[39m\\\\\u001b[39;49;00m\u001b[39mtext\u001b[39;49m\u001b[39m{\u001b[39;49m\u001b[39m, we can do what\u001b[39;49m\u001b[39m\"\u001b[39;49m\u001b[39m,color=WHITE),\u001b[39;49m\u001b[39m\\n\u001b[39;49;00m\u001b[39m            MathTex(r\u001b[39;49m\u001b[39m\"\u001b[39;49m\u001b[39m\\\\\u001b[39;49;00m\u001b[39mtext\u001b[39;49m\u001b[39m{\u001b[39;49m\u001b[39mis called a 2}\u001b[39;49m\u001b[39m\"\u001b[39;49m\u001b[39m, \u001b[39;49m\u001b[39m\"\u001b[39;49m\u001b[39m\\\\\u001b[39;49;00m\u001b[39m\\\\\u001b[39;49;00m\u001b[39mtheta\u001b[39;49m\u001b[39m\"\u001b[39;49m\u001b[39m,\u001b[39;49m\u001b[39m\"\u001b[39;49m\u001b[39m\\\\\u001b[39;49;00m\u001b[39m\\\\\u001b[39;49;00m\u001b[39mtext\u001b[39;49m\u001b[39m{\u001b[39;49m\u001b[39m scan}\u001b[39;49m\u001b[39m\"\u001b[39;49m\u001b[39m,color=WHITE),\u001b[39;49m\u001b[39m\\n\u001b[39;49;00m\u001b[39m            MathTex(r\u001b[39;49m\u001b[39m\"\u001b[39;49m\u001b[39m\\\\\u001b[39;49;00m\u001b[39mtext\u001b[39;49m\u001b[39m{\u001b[39;49m\u001b[39m--}\u001b[39;49m\u001b[39m\"\u001b[39;49m\u001b[39m),\u001b[39;49m\u001b[39m\\n\u001b[39;49;00m\u001b[39m            MathTex(r\u001b[39;49m\u001b[39m\"\u001b[39;49m\u001b[39m\\\\\u001b[39;49;00m\u001b[39mtext\u001b[39;49m\u001b[39m{\u001b[39;49m\u001b[39mUsing Bragg\u001b[39;49m\u001b[39m\\'\u001b[39;49;00m\u001b[39ms Law, larger 2}\u001b[39;49m\u001b[39m\"\u001b[39;49m\u001b[39m,\u001b[39;49m\u001b[39m\"\u001b[39;49m\u001b[39m\\\\\u001b[39;49;00m\u001b[39m\\\\\u001b[39;49;00m\u001b[39mtheta\u001b[39;49m\u001b[39m\"\u001b[39;49m\u001b[39m, \u001b[39;49m\u001b[39m\"\u001b[39;49m\u001b[39m\\\\\u001b[39;49;00m\u001b[39m\\\\\u001b[39;49;00m\u001b[39mtext\u001b[39;49m\u001b[39m{\u001b[39;49m\u001b[39m values}\u001b[39;49m\u001b[39m\"\u001b[39;49m\u001b[39m,color=WHITE),\u001b[39;49m\u001b[39m\\n\u001b[39;49;00m\u001b[39m            MathTex(r\u001b[39;49m\u001b[39m\"\u001b[39;49m\u001b[39m\\\\\u001b[39;49;00m\u001b[39mtext\u001b[39;49m\u001b[39m{\u001b[39;49m\u001b[39mcorrespond to planes with smaller}\u001b[39;49m\u001b[39m\"\u001b[39;49m\u001b[39m, \u001b[39;49m\u001b[39m\"\u001b[39;49m\u001b[39m\\\\\u001b[39;49;00m\u001b[39m\\\\\u001b[39;49;00m\u001b[39mtext\u001b[39;49m\u001b[39m{\u001b[39;49m\u001b[39m d-spacings}\u001b[39;49m\u001b[39m\"\u001b[39;49m\u001b[39m,color=WHITE)\u001b[39;49m\u001b[39m\\n\u001b[39;49;00m\u001b[39m        ).arrange(DOWN,aligned_edge=LEFT)\u001b[39;49m\u001b[39m\\n\u001b[39;49;00m\u001b[39m        txt2.height=rect.height -1\u001b[39;49m\u001b[39m\\n\u001b[39;49;00m\u001b[39m        txt2.width=rect.width -2.5\u001b[39;49m\u001b[39m\\n\u001b[39;49;00m\u001b[39m\\n\u001b[39;49;00m\u001b[39m        self.play(FadeIn(rect,txt2))\u001b[39;49m\u001b[39m\\n\u001b[39;49;00m\u001b[39m        self.wait(11)\u001b[39;49m\u001b[39m\\n\u001b[39;49;00m\u001b[39m        self.play(FadeOut(rect,txt2))\u001b[39;49m\u001b[39m\\n\u001b[39;49;00m\u001b[39m\\n\u001b[39;49;00m\u001b[39m        \u001b[39;49m\u001b[39m\\n\u001b[39;49;00m\u001b[39m        twothetascan=MathTex(\u001b[39;49m\u001b[39m\"\u001b[39;49m\u001b[39m2 Theta (2 \u001b[39;49m\u001b[39m\\\\\u001b[39;49;00m\u001b[39m\\\\\u001b[39;49;00m\u001b[39mtheta) Scan\u001b[39;49m\u001b[39m\"\u001b[39;49m\u001b[39m).set_color_by_gradient(TEAL,ORANGE\u001b[39;49m\u001b[39m\\n\u001b[39;49;00m\u001b[39m        ).to_edge(UP).scale(1.2)\u001b[39;49m\u001b[39m\\n\u001b[39;49;00m\u001b[39m\\n\u001b[39;49;00m\u001b[39m        self.play(v.animate.set_value(0),run_time=1.5)\u001b[39;49m\u001b[39m\\n\u001b[39;49;00m\u001b[39m        self.wait()\u001b[39;49m\u001b[39m\\n\u001b[39;49;00m\u001b[39m        self.add(sca2)\u001b[39;49m\u001b[39m\\n\u001b[39;49;00m\u001b[39m        self.remove(sca)\u001b[39;49m\u001b[39m\\n\u001b[39;49;00m\u001b[39m        self.play(FadeTransform(title,twothetascan))\u001b[39;49m\u001b[39m\\n\u001b[39;49;00m\u001b[39m        self.play(t.animate.set_value(PI/6),run_time=5)\u001b[39;49m\u001b[39m\\n\u001b[39;49;00m\u001b[39m'\u001b[39;49m)\n",
      "File \u001b[1;32m~\\AppData\\Roaming\\Python\\Python310\\site-packages\\IPython\\core\\interactiveshell.py:2362\u001b[0m, in \u001b[0;36mInteractiveShell.run_cell_magic\u001b[1;34m(self, magic_name, line, cell)\u001b[0m\n\u001b[0;32m   2360\u001b[0m \u001b[39mwith\u001b[39;00m \u001b[39mself\u001b[39m\u001b[39m.\u001b[39mbuiltin_trap:\n\u001b[0;32m   2361\u001b[0m     args \u001b[39m=\u001b[39m (magic_arg_s, cell)\n\u001b[1;32m-> 2362\u001b[0m     result \u001b[39m=\u001b[39m fn(\u001b[39m*\u001b[39margs, \u001b[39m*\u001b[39m\u001b[39m*\u001b[39mkwargs)\n\u001b[0;32m   2363\u001b[0m \u001b[39mreturn\u001b[39;00m result\n",
      "File \u001b[1;32mC:\\tools\\Manim\\Lib\\site-packages\\manim\\utils\\ipython_magic.py:150\u001b[0m, in \u001b[0;36mManimMagic.manim\u001b[1;34m(self, line, cell, local_ns)\u001b[0m\n\u001b[0;32m    148\u001b[0m     SceneClass \u001b[39m=\u001b[39m local_ns[config[\u001b[39m\"\u001b[39m\u001b[39mscene_names\u001b[39m\u001b[39m\"\u001b[39m][\u001b[39m0\u001b[39m]]\n\u001b[0;32m    149\u001b[0m     scene \u001b[39m=\u001b[39m SceneClass(renderer\u001b[39m=\u001b[39mrenderer)\n\u001b[1;32m--> 150\u001b[0m     scene\u001b[39m.\u001b[39;49mrender()\n\u001b[0;32m    151\u001b[0m \u001b[39mfinally\u001b[39;00m:\n\u001b[0;32m    152\u001b[0m     \u001b[39m# Shader cache becomes invalid as the context is destroyed\u001b[39;00m\n\u001b[0;32m    153\u001b[0m     shader_program_cache\u001b[39m.\u001b[39mclear()\n",
      "File \u001b[1;32mC:\\tools\\Manim\\Lib\\site-packages\\manim\\scene\\scene.py:222\u001b[0m, in \u001b[0;36mScene.render\u001b[1;34m(self, preview)\u001b[0m\n\u001b[0;32m    220\u001b[0m \u001b[39mself\u001b[39m\u001b[39m.\u001b[39msetup()\n\u001b[0;32m    221\u001b[0m \u001b[39mtry\u001b[39;00m:\n\u001b[1;32m--> 222\u001b[0m     \u001b[39mself\u001b[39;49m\u001b[39m.\u001b[39;49mconstruct()\n\u001b[0;32m    223\u001b[0m \u001b[39mexcept\u001b[39;00m EndSceneEarlyException:\n\u001b[0;32m    224\u001b[0m     \u001b[39mpass\u001b[39;00m\n",
      "File \u001b[1;32m<string>:85\u001b[0m, in \u001b[0;36mconstruct\u001b[1;34m(self)\u001b[0m\n",
      "\u001b[1;31mNameError\u001b[0m: name 'Mathtex' is not defined"
     ]
    }
   ],
   "source": [
    "%%manim -qh diff\n",
    "class diff(Scene):\n",
    "    def construct(self):\n",
    "        v=ValueTracker(0)\n",
    "        t=ValueTracker(0)\n",
    "        title = Text(\"Bragg Diffraction\").set_color_by_gradient(TEAL,ORANGE)\n",
    "        self.play(Write(title))\n",
    "        self.wait()\n",
    "        title.generate_target()\n",
    "        title.target.to_edge(UP).scale(.8)\n",
    "        self.play(MoveToTarget(title))\n",
    "\n",
    "        grid=NumberPlane(x_range=[-6,6],y_range=[-3,0]).shift(DOWN*2.5)\n",
    "        grid2=always_redraw(lambda: NumberPlane(x_range=[-3.5,3.5],y_range=[-3,0]).shift(DOWN*2.5).rotate(v.get_value()))\n",
    "        grid3=always_redraw(lambda:NumberPlane(x_range=[-40,40],y_range=[-30,0],x_length=7,y_length=3).set_opacity(0.6).shift(DOWN*2.5).rotate(v.get_value()))\n",
    "        samp=always_redraw(lambda:Rectangle(WHITE,height=1/10,width=1,fill_color=TEAL).shift(DOWN*2).rotate(v.get_value()))\n",
    "        samp_dash=always_redraw(lambda:DashedLine([-1,-2,0],[1.,-2,0],color=TEAL).rotate(v.get_value()))\n",
    "        self.play(FadeIn(grid))\n",
    "        dots=dict()\n",
    "        var_index=0\n",
    "        for x in range(-6, 6):\n",
    "            for y in range(-3, 0):\n",
    "                \n",
    "                dots[f\"{var_index}\"] = Dot(np.array([x, y, 0]))\n",
    "                var_index = var_index + 1\n",
    "        self.play(FadeIn(*dots.values()))\n",
    "\n",
    "        \n",
    "       \n",
    "        br=BraceBetweenPoints([2,-1,0],[2,-2,0],direction=RIGHT)\n",
    "        param=MathTex(\"d\").next_to(br,RIGHT,aligned_edge=LEFT).set_color(color=BLUE)\n",
    "        \n",
    "        \n",
    "        eqn1=MathTex(\"n\",\"\\\\lambda\").next_to(grid,UP,DOWN).shift(UP*1.3 + LEFT)\n",
    "        eqn2=MathTex(\"=\",\"2\",\"d\",\"\\\\sin(\",\"\\\\theta\",\")\").next_to(eqn1,RIGHT,buff=1.26,aligned_edge=RIGHT).set_color_by_tex(\"d\",color=BLUE).set_color_by_tex(\"\\\\theta\",GREEN)\n",
    "        brg_cond=Text(\"Bragg Condition\").scale(.5).next_to(eqn1,UP,DOWN).shift(RIGHT*1.1+UP*1.3\n",
    "        ).set_color_by_gradient(ORANGE,TEAL)\n",
    "        \n",
    "        self.play(Write(eqn1),run_time=.75)\n",
    "        self.play(Write(eqn2),run_time=1)\n",
    "        self.play(Write(brg_cond))\n",
    "        self.play(FadeIn(br,param))\n",
    "\n",
    "\n",
    "        inc=always_redraw(lambda:Line([-4,0,0],[0,-2,0],color=RED).rotate(-1*t.get_value(),about_point=[0,-2,0]))\n",
    "        sca=always_redraw(lambda:Line([0,-2,0],[4,0,0],color=RED))\n",
    "        sca2=always_redraw(lambda:Line([0,-2,0],[4,0,0],color=RED).rotate(t.get_value(),about_point=[0,-2,0]))\n",
    "        dashed= always_redraw(lambda:DashedLine([0,-2,0],[4,-4,0],color=RED).rotate(-1*t.get_value(),about_point=[0,-2,0]))\n",
    "        text=Tex(\"Incident X-Ray\").move_to([-4,1,0]).set_color_by_gradient(GOLD,TEAL)\n",
    "        \n",
    "        \n",
    "        \n",
    "        def opacity_setter(mob):\n",
    "            randNum=rnd.random()\n",
    "            mob.set_opacity(randNum)\n",
    "        sca2.add_updater(opacity_setter)\n",
    "\n",
    "\n",
    "\n",
    "        text2=Tex(\"Diffracted X-Ray\").move_to([4,1,0]).set_color_by_gradient(GOLD,BLUE)\n",
    "        self.play(Create(inc),FadeIn(text))\n",
    "        #self.play(FadeOut(text))\n",
    "        self.play(Create(sca),FadeIn(text2))\n",
    "        #self.play(FadeOut(text2))\n",
    "\n",
    "        vg=(eqn1,eqn2)\n",
    "        \n",
    "        angle=MathTex(\"\\\\omega\").set_color(YELLOW).shift(LEFT*1.3 + DOWN*1.74)\n",
    "        angle2=MathTex(\"2\",\"\\\\theta\").set_color_by_tex(\"\\\\theta\",GREEN).shift(RIGHT*1.4 + DOWN*1.95)\n",
    "        ang=always_redraw(lambda:Angle(Line([0,-2,0],[-4,0,0]).rotate(-1*t.get_value(),about_point=[0,-2,0]),Line([-1,-2,0],[1,-2,0]).rotate(v.get_value()),radius=1,quadrant=(1,-1)))\n",
    "        ang2=always_redraw(lambda:Angle(Line([0,-2,0],[4,-4,0]).rotate(-1*t.get_value(),about_point=[0,-2,0]),Line([0,-2,0],[4,0,0]).rotate(1*t.get_value(),about_point=[0,-2,0]),radius=1,quadrant=(1,11)))\n",
    "        self.play(Create(ang))\n",
    "        self.play(Write(angle))\n",
    "        self.play(Create(dashed))\n",
    "        self.play(Create(ang2),Write(angle2))\n",
    "        self.wait()\n",
    "        \n",
    "        rect=Rectangle(height=7.5,width=12,fill_color=BLACK,fill_opacity=1\n",
    "        ).set_color_by_gradient([TEAL,ORANGE,PINK]\n",
    "        ).set_fill(DARKER_GREY)\n",
    "\n",
    "        txt1=VGroup(\n",
    "            MathTex(\"NOTE:\"),\n",
    "            MathTex(r\"\\text{If we hold 2}\",\"\\\\theta\",\"\\\\text{ constant while we vary}\",\"\\\\omega\",\"\\\\text{we can}\",color=WHITE),\n",
    "            MathTex(r\"\\text{preform an }\", \"\\\\omega\",\"\\\\text{ scan}\",color=WHITE),\n",
    "            MathTex(r\"\\text{--}\"),\n",
    "            MathTex(r\"\\text{Since 2}\",\"\\\\theta\",\"\\\\text{is constant, we are sampling the same}\",color=WHITE),\n",
    "            MathTex(r\"\\text{d-spacing throughout the scan, per Bragg's Law.}\",color=WHITE),\n",
    "            MathTex(r\"\\text{This is used to interrogatethe quality of the crystal}\",color=WHITE),\n",
    "            MathTex(r\"\\text{--}\"),\n",
    "            MathTex(r\"\\text{*The angle shown is exaggerated for illustration}\",color=WHITE).scale(0.7)\n",
    "        ).arrange(DOWN,aligned_edge=LEFT)\n",
    "        txt1.height=config.frame_height-2\n",
    "        txt1.width=rect.width - 1\n",
    "\n",
    "        self.play(Create(rect),Write(txt1))\n",
    "        self.wait(13)\n",
    "        self.play(FadeOut(rect,txt1))\n",
    "        wscan=MathTex(\"Omega\\,  (\\\\omega) \\,  Scan\").set_color_by_gradient(TEAL,ORANGE).to_edge(UP).scale(1.2)\n",
    "\n",
    "\n",
    "\n",
    "        self.play(FadeOut(*dots.values(),br,param),FadeOut(eqn1,eqn2,brg_cond),ReplacementTransform(grid,samp))\n",
    "        self.play(Transform(title,wscan),Create(samp_dash))\n",
    "        self.add(sca2)\n",
    "        self.remove(sca)\n",
    "        self.play(v.animate.set_value(-0.6/6),run_time=1.5)\n",
    "        self.play(v.animate.set_value(PI/(10)),run_time=4.5,rate_func=linear)\n",
    "        self.add(sca)\n",
    "        self.remove(sca2)\n",
    "        self.wait(2)\n",
    "        \n",
    "        txt2= VGroup(\n",
    "            MathTex(\"NOTE:\"),\n",
    "            MathTex(r\"\\text{If we set }\",\"\\\\omega\",\"\\\\text{ to be equal to }\",\"\\\\theta\",color=WHITE),\n",
    "            MathTex(r\"\\text{while varying 2}\",\"\\\\theta\",\"\\\\text{, we can do what\",color=WHITE),\n",
    "            MathTex(r\"\\text{is called a 2}\", \"\\\\theta\",\"\\\\text{ scan}\",color=WHITE),\n",
    "            MathTex(r\"\\text{--}\"),\n",
    "            MathTex(r\"\\text{Using Bragg's Law, larger 2}\",\"\\\\theta\", \"\\\\text{ values}\",color=WHITE),\n",
    "            MathTex(r\"\\text{correspond to planes with smaller}\", \"\\\\text{ d-spacings}\",color=WHITE)\n",
    "        ).arrange(DOWN,aligned_edge=LEFT)\n",
    "        txt2.height=rect.height -1\n",
    "        txt2.width=rect.width -2.5\n",
    "\n",
    "        self.play(FadeIn(rect,txt2))\n",
    "        self.wait(11)\n",
    "        self.play(FadeOut(rect,txt2))\n",
    "\n",
    "        \n",
    "        twothetascan=MathTex(\"2 Theta (2 \\\\theta) Scan\").set_color_by_gradient(TEAL,ORANGE\n",
    "        ).to_edge(UP).scale(1.2)\n",
    "\n",
    "        self.play(v.animate.set_value(0),run_time=1.5)\n",
    "        self.wait()\n",
    "        self.add(sca2)\n",
    "        self.remove(sca)\n",
    "        self.play(FadeTransform(title,twothetascan))\n",
    "        self.play(t.animate.set_value(PI/6),run_time=5)"
   ]
  },
  {
   "cell_type": "code",
   "execution_count": null,
   "id": "68c9e676",
   "metadata": {},
   "outputs": [],
   "source": []
  }
 ],
 "metadata": {
  "kernelspec": {
   "display_name": "Python 3.10.7 64-bit",
   "language": "python",
   "name": "python3"
  },
  "language_info": {
   "codemirror_mode": {
    "name": "ipython",
    "version": 3
   },
   "file_extension": ".py",
   "mimetype": "text/x-python",
   "name": "python",
   "nbconvert_exporter": "python",
   "pygments_lexer": "ipython3",
   "version": "3.10.7"
  },
  "vscode": {
   "interpreter": {
    "hash": "21c226218ac4dfb5eb214a6551f34df7d5ee3b771bdb049e6ae407012dec2ae6"
   }
  }
 },
 "nbformat": 4,
 "nbformat_minor": 5
}
