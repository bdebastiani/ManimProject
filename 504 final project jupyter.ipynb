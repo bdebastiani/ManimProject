{
 "cells": [
  {
   "cell_type": "markdown",
   "id": "9ecd3f87",
   "metadata": {},
   "source": [
    "<hr>\n",
    "<hr>"
   ]
  },
  {
   "cell_type": "markdown",
   "id": "substantial-impact",
   "metadata": {},
   "source": [
    " # <font color=gold>Bragg Diffraction Animation</font>"
   ]
  },
  {
   "cell_type": "markdown",
   "id": "governing-increase",
   "metadata": {},
   "source": [
    "#### <i> This is a short animation that graphically relates diffraction in real space to Bragg's Law. It further visualizes two different scanning methods that utilize Bragg's Law for analysis and charachterization. </i>"
   ]
  },
  {
   "cell_type": "markdown",
   "id": "bbaa0048",
   "metadata": {},
   "source": [
    "Select \"run\" in the top left, then press \"run all cells\", or alternatively click each cell and hit SHIFT + ENTER on them individually\n",
    "<hr>"
   ]
  },
  {
   "cell_type": "code",
   "execution_count": null,
   "id": "wound-foundation",
   "metadata": {},
   "outputs": [],
   "source": [
    "from manim import *\n",
    "\n",
    "config.media_width = \"80%\"\n",
    "config.verbosity = \"WARNING\""
   ]
  },
  {
   "cell_type": "code",
   "execution_count": null,
   "id": "4e89dda2",
   "metadata": {},
   "outputs": [],
   "source": [
    "import random as rnd"
   ]
  },
  {
   "cell_type": "markdown",
   "id": "85c1a56b",
   "metadata": {},
   "source": [
    "##### The <b><i>above</i></b> cells import the necessary packages while the cell <b><i>below</i></b> is the code that constructs and renders the animation. The result will be an mp4 file that will pop up below the code cell."
   ]
  },
  {
   "cell_type": "code",
   "execution_count": null,
   "id": "ccdd9a5d",
   "metadata": {},
   "outputs": [],
   "source": [
    "%%manim -qh diff\n",
    "class diff(Scene):\n",
    "    def construct(self):\n",
    "        v=ValueTracker(0)\n",
    "        t=ValueTracker(0)\n",
    "        title = Text(\"Bragg Diffraction\").set_color_by_gradient(TEAL,ORANGE)\n",
    "        self.play(Write(title))\n",
    "        self.wait()\n",
    "        title.generate_target()\n",
    "        title.target.to_edge(UP).scale(.8)\n",
    "        self.play(MoveToTarget(title))\n",
    "\n",
    "        grid=NumberPlane(x_range=[-6,6],y_range=[-3,0]).shift(DOWN*2.5)\n",
    "        grid2=always_redraw(lambda: NumberPlane(x_range=[-3.5,3.5],y_range=[-3,0]).shift(DOWN*2.5).rotate(v.get_value()))\n",
    "        grid3=always_redraw(lambda:NumberPlane(x_range=[-40,40],y_range=[-30,0],x_length=7,y_length=3).set_opacity(0.6).shift(DOWN*2.5).rotate(v.get_value()))\n",
    "        samp=always_redraw(lambda:Rectangle(WHITE,height=1/10,width=1,fill_color=TEAL).shift(DOWN*2).rotate(v.get_value()))\n",
    "        samp_dash=always_redraw(lambda:DashedLine([-1,-2,0],[1.,-2,0],color=TEAL).rotate(v.get_value()))\n",
    "        self.play(FadeIn(grid))\n",
    "        dots=dict()\n",
    "        var_index=0\n",
    "        for x in range(-6, 6):\n",
    "            for y in range(-3, 0):\n",
    "                \n",
    "                dots[f\"{var_index}\"] = Dot(np.array([x, y, 0]))\n",
    "                var_index = var_index + 1\n",
    "        self.play(FadeIn(*dots.values()))\n",
    "\n",
    "        \n",
    "       \n",
    "        br=BraceBetweenPoints([2,-1,0],[2,-2,0],direction=RIGHT)\n",
    "        param=MathTex(\"d\").next_to(br,RIGHT,aligned_edge=LEFT).set_color(color=BLUE)\n",
    "        \n",
    "        \n",
    "        eqn1=MathTex(\"n\",\"\\\\lambda\").next_to(grid,UP,DOWN).shift(UP*1.3 + LEFT)\n",
    "        eqn2=MathTex(\"=\",\"2\",\"d\",\"\\\\sin(\",\"\\\\theta\",\")\").next_to(eqn1,RIGHT,buff=1.26,aligned_edge=RIGHT).set_color_by_tex(\"d\",color=BLUE).set_color_by_tex(\"\\\\theta\",GREEN)\n",
    "        brg_cond=Text(\"Bragg Condition\").scale(.5).next_to(eqn1,UP,DOWN).shift(RIGHT*1.1+UP*1.3\n",
    "        ).set_color_by_gradient(ORANGE,TEAL)\n",
    "        \n",
    "        self.play(Write(eqn1),run_time=.75)\n",
    "        self.play(Write(eqn2),run_time=1)\n",
    "        self.play(Write(brg_cond))\n",
    "        self.play(FadeIn(br,param))\n",
    "\n",
    "\n",
    "        inc=always_redraw(lambda:Line([-4,0,0],[0,-2,0],color=RED).rotate(-1*t.get_value(),about_point=[0,-2,0]))\n",
    "        sca=always_redraw(lambda:Line([0,-2,0],[4,0,0],color=RED).rotate(t.get_value(),about_point=[0,-2,0]))\n",
    "        sca2=always_redraw(lambda:Line([0,-2,0],[4,0,0],color=RED).rotate(t.get_value(),about_point=[0,-2,0]))\n",
    "        dashed= always_redraw(lambda:DashedLine([0,-2,0],[4,-4,0],color=RED).rotate(-1*t.get_value(),about_point=[0,-2,0]))\n",
    "        text=Tex(\"Incident X-Ray\").move_to([-4,1,0]).set_color_by_gradient(GOLD,TEAL)\n",
    "        \n",
    "        \n",
    "        \n",
    "        def opacity_setter(mob):\n",
    "            randNum=rnd.random()\n",
    "            mob.set_opacity(randNum)\n",
    "        sca2.add_updater(opacity_setter)\n",
    "\n",
    "\n",
    "\n",
    "        text2=Tex(\"Diffracted X-Ray\").move_to([4,1,0]).set_color_by_gradient(GOLD,BLUE)\n",
    "        self.play(Create(inc),FadeIn(text))\n",
    "        #self.play(FadeOut(text))\n",
    "        self.play(Create(sca),FadeIn(text2))\n",
    "        #self.play(FadeOut(text2))\n",
    "\n",
    "        vg=(eqn1,eqn2)\n",
    "        \n",
    "        angle=MathTex(\"\\\\omega\").set_color(YELLOW).shift(LEFT*1.3 + DOWN*1.74)\n",
    "        angle2=MathTex(\"2\",\"\\\\theta\").set_color_by_tex(\"\\\\theta\",GREEN).shift(RIGHT*1.4 + DOWN*1.95)\n",
    "        ang=always_redraw(lambda:Angle(Line([0,-2,0],[-4,0,0]).rotate(-1*t.get_value(),about_point=[0,-2,0]),Line([-1,-2,0],[1,-2,0]).rotate(v.get_value()),radius=1,quadrant=(1,-1)))\n",
    "        ang2=always_redraw(lambda:Angle(Line([0,-2,0],[4,-4,0]).rotate(-1*t.get_value(),about_point=[0,-2,0]),Line([0,-2,0],[4,0,0]).rotate(1*t.get_value(),about_point=[0,-2,0]),radius=1,quadrant=(1,11)))\n",
    "        self.play(Create(ang))\n",
    "        self.play(Write(angle))\n",
    "        self.play(Create(dashed))\n",
    "        self.play(Create(ang2),Write(angle2))\n",
    "        self.wait()\n",
    "        \n",
    "        rect=Rectangle(height=7.5,width=12,fill_color=BLACK,fill_opacity=1\n",
    "        ).set_color_by_gradient([TEAL,ORANGE,PINK]\n",
    "        ).set_fill(DARKER_GREY)\n",
    "\n",
    "        txt1=VGroup(\n",
    "            MathTex(\"NOTE:\"),\n",
    "            MathTex(r\"\\text{If we hold 2}\",\"\\\\theta\",\"\\\\text{ constant while we vary }\",\"\\\\omega\",\"\\\\text{, we can}\",color=WHITE),\n",
    "            MathTex(r\"\\text{preform an }\", \"\\\\omega\",\"\\\\text{ scan.}\",color=WHITE),\n",
    "            MathTex(r\"\\text{--}\"),\n",
    "            MathTex(r\"\\text{Since 2}\",\"\\\\theta\",\"\\\\text{ is constant, we are sampling the same}\",color=WHITE),\n",
    "            MathTex(r\"\\text{d-spacing throughout the scan, per Bragg's Law.}\",color=WHITE),\n",
    "            MathTex(r\"\\text{This is used to interrogate the quality of the crystal}\",color=WHITE),\n",
    "            MathTex(r\"\\text{--}\"),\n",
    "            MathTex(r\"\\text{*The angle shown is exaggerated for illustration}\",color=WHITE).scale(0.7)\n",
    "        ).arrange(DOWN,aligned_edge=LEFT)\n",
    "        txt1.height=config.frame_height-2\n",
    "        txt1.width=rect.width - 1\n",
    "\n",
    "        self.play(FadeIn(rect,txt1))\n",
    "        self.wait(15)\n",
    "        self.play(FadeOut(rect,txt1))\n",
    "        wscan=MathTex(\"Omega\\,  (\\\\omega) \\,  Scan\").set_color_by_gradient(RED,YELLOW).scale(1.6).to_edge(UP)\n",
    "\n",
    "\n",
    "\n",
    "        self.play(FadeOut(*dots.values(),br,param),FadeOut(eqn1,eqn2,brg_cond),ReplacementTransform(grid,samp))\n",
    "        self.play(Transform(title,wscan),Create(samp_dash))\n",
    "        self.add(sca2)\n",
    "        self.remove(sca)\n",
    "        self.play(v.animate.set_value(-0.6/6),run_time=1.5)\n",
    "        self.play(v.animate.set_value(PI/(10)),run_time=4.5,rate_func=linear)\n",
    "        self.add(sca)\n",
    "        self.remove(sca2)\n",
    "        self.wait(2)\n",
    "        \n",
    "        txt2= VGroup(\n",
    "            MathTex(\"NOTE:\"),\n",
    "            MathTex(r\"\\text{If we set }\",\"\\\\omega\",\"\\\\text{ to be equal to }\",\"\\\\theta\",color=WHITE),\n",
    "            MathTex(r\"\\text{while varying 2}\",\"\\\\theta\",\"\\\\text{, we can do what\",color=WHITE),\n",
    "            MathTex(r\"\\text{is called a 2}\", \"\\\\theta\",\"\\\\text{ scan}\",color=WHITE),\n",
    "            MathTex(r\"\\text{--}\"),\n",
    "            MathTex(r\"\\text{Using Bragg's Law, larger 2}\",\"\\\\theta\", \"\\\\text{ values}\",color=WHITE),\n",
    "            MathTex(r\"\\text{correspond to planes with smaller}\", \"\\\\text{ d-spacings}\",color=WHITE)\n",
    "        ).arrange(DOWN,aligned_edge=LEFT)\n",
    "        txt2.height=rect.height -1\n",
    "        txt2.width=rect.width -1\n",
    "\n",
    "        self.play(FadeIn(rect,txt2))\n",
    "        self.wait(10)\n",
    "        self.play(FadeOut(rect,txt2))\n",
    "\n",
    "        \n",
    "        twothetascan=MathTex(\"2 Theta (2 \\\\theta) Scan\").set_color_by_gradient(RED,YELLOW).scale(1.6).to_edge(UP)\n",
    "\n",
    "        self.play(v.animate.set_value(0),run_time=0.75)\n",
    "        self.wait()\n",
    "        self.play(FadeTransform(title,twothetascan))\n",
    "        self.add(sca2)\n",
    "        self.remove(sca)\n",
    "        self.play(t.animate.set_value(PI/6),run_time=5)\n",
    "        self.wait()\n",
    "        \n",
    "        self.add(sca.rotate(PI/6,about_point=[0,-2,0]))\n",
    "        self.remove(sca2)\n",
    "        self.wait(2)\n",
    "          \n",
    "         \n"
   ]
  },
  {
   "cell_type": "markdown",
   "id": "68c9e676",
   "metadata": {},
   "source": [
    "Progress of the render will appear above this cell. The scene is comprised of 30 animations, many of which are quick. The _MethodAnimation(ValueTracker) ones take longer than the rest. If nothing appears in the pink box, dont be alarmed. After \"Animation 30\" is complete, the video will appear above this cell and play on a loop. Alternatively the video can be downloaded and viewed fullscreen. "
   ]
  },
  {
   "cell_type": "markdown",
   "id": "4cc0c2be",
   "metadata": {},
   "source": [
    "<hr><hr>"
   ]
  },
  {
   "cell_type": "markdown",
   "id": "70ef4cdd",
   "metadata": {},
   "source": []
  }
 ],
 "metadata": {
  "kernelspec": {
   "display_name": "Python 3.10.7 64-bit",
   "language": "python",
   "name": "python3"
  },
  "language_info": {
   "codemirror_mode": {
    "name": "ipython",
    "version": 3
   },
   "file_extension": ".py",
   "mimetype": "text/x-python",
   "name": "python",
   "nbconvert_exporter": "python",
   "pygments_lexer": "ipython3",
   "version": "3.10.7"
  },
  "vscode": {
   "interpreter": {
    "hash": "21c226218ac4dfb5eb214a6551f34df7d5ee3b771bdb049e6ae407012dec2ae6"
   }
  }
 },
 "nbformat": 4,
 "nbformat_minor": 5
}
