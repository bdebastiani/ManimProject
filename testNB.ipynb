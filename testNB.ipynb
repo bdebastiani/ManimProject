{
 "cells": [
  {
   "cell_type": "code",
   "execution_count": null,
   "metadata": {},
   "outputs": [],
   "source": [
    "from manim import *\n",
    "from manim.opengl import *"
   ]
  },
  {
   "cell_type": "code",
   "execution_count": null,
   "metadata": {},
   "outputs": [],
   "source": [
    "%%manim -qh fermi\n",
    "class fermi(Scene):\n",
    "    def construct(self):\n",
    "        T=ValueTracker(0.000001)\n",
    "        axes=Axes(\n",
    "            [0,400,50],[0,2,0.5],\n",
    "            axis_config={\"include_numbers\":True})\n",
    "        function = lambda x: 1/(1 + np.exp((x-200)/ T.get_value()))   \n",
    "        #axes.width=config.frame_width-1\n",
    "\n",
    "        func=always_redraw(lambda:axes.plot(function,x_range=(0,400,.5),color=TEAL))\n",
    "        lableY=MathTex(r\"\\text{f(}\",\"\\\\epsilon\",\"\\\\text{)}\").next_to(axes.get_y_axis(),UP)\n",
    "        tex1=Tex(\"Temperature = \").shift(UP)\n",
    "        tex=always_redraw(lambda:Tex(str(round(T.get_value(),2))).next_to(tex1.get_right()))\n",
    "        xaxis=axes.get_x_axis_label(\"Energy (\\\\frac{\\\\epsilon - \\\\mu}{k_b*T})\").next_to(axes.get_bottom(),DOWN)\n",
    "        yaxis=axes.get_y_axis_label(\"Occupation\").next_to(axes.get_left(),LEFT).shift(RIGHT)\n",
    "        yaxis.rotate(PI/2,about_point=yaxis.get_center())\n",
    "        dot=Dot(axes.coords_to_point(200,0.5))\n",
    "        lines=axes.get_lines_to_point(axes.c2p(200,0.5))\n",
    "        vg=VGroup(axes,func,lableY,xaxis,yaxis,dot,lines)\n",
    "        \n",
    "        vg.width=config.frame_width - 2\n",
    "        vg.height=config.frame_height - 2\n",
    "        self.add(vg)\n",
    "        self.play(Write(tex1))\n",
    "        self.play(Write(tex))\n",
    "        self.wait(3)\n",
    "        self.play(T.animate.set_value(10),rate_func=linear,run_time=5)\n",
    "        self.wait(2)"
   ]
  },
  {
   "cell_type": "code",
   "execution_count": null,
   "metadata": {},
   "outputs": [],
   "source": []
  }
 ],
 "metadata": {
  "kernelspec": {
   "display_name": "Python 3.10.7 64-bit",
   "language": "python",
   "name": "python3"
  },
  "language_info": {
   "codemirror_mode": {
    "name": "ipython",
    "version": 3
   },
   "file_extension": ".py",
   "mimetype": "text/x-python",
   "name": "python",
   "nbconvert_exporter": "python",
   "pygments_lexer": "ipython3",
   "version": "3.10.7"
  },
  "orig_nbformat": 4,
  "vscode": {
   "interpreter": {
    "hash": "21c226218ac4dfb5eb214a6551f34df7d5ee3b771bdb049e6ae407012dec2ae6"
   }
  }
 },
 "nbformat": 4,
 "nbformat_minor": 2
}
